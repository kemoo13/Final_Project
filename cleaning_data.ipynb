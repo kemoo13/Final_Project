{
 "cells": [
  {
   "cell_type": "markdown",
   "id": "9590d45a",
   "metadata": {},
   "source": [
    "## Cleaning Stock Market Data"
   ]
  },
  {
   "cell_type": "code",
   "execution_count": 2,
   "id": "643e9e36",
   "metadata": {},
   "outputs": [],
   "source": [
    "# Import dependencies \n",
    "import os\n",
    "import numpy as no\n",
    "import pandas as pd\n",
    "import matplotlib.pyplot as plt\n",
    "%matplotlib inline"
   ]
  },
  {
   "cell_type": "code",
   "execution_count": 4,
   "id": "95dd0d89",
   "metadata": {},
   "outputs": [
    {
     "data": {
      "text/html": [
       "<div>\n",
       "<style scoped>\n",
       "    .dataframe tbody tr th:only-of-type {\n",
       "        vertical-align: middle;\n",
       "    }\n",
       "\n",
       "    .dataframe tbody tr th {\n",
       "        vertical-align: top;\n",
       "    }\n",
       "\n",
       "    .dataframe thead th {\n",
       "        text-align: right;\n",
       "    }\n",
       "</style>\n",
       "<table border=\"1\" class=\"dataframe\">\n",
       "  <thead>\n",
       "    <tr style=\"text-align: right;\">\n",
       "      <th></th>\n",
       "      <th>Date</th>\n",
       "      <th>Open</th>\n",
       "      <th>High</th>\n",
       "      <th>Low</th>\n",
       "      <th>Close</th>\n",
       "      <th>Adj Close</th>\n",
       "      <th>Volume</th>\n",
       "    </tr>\n",
       "  </thead>\n",
       "  <tbody>\n",
       "    <tr>\n",
       "      <th>0</th>\n",
       "      <td>2019-06-14</td>\n",
       "      <td>36.000000</td>\n",
       "      <td>41.340000</td>\n",
       "      <td>32.740002</td>\n",
       "      <td>34.990002</td>\n",
       "      <td>34.990002</td>\n",
       "      <td>69671400</td>\n",
       "    </tr>\n",
       "    <tr>\n",
       "      <th>1</th>\n",
       "      <td>2019-06-17</td>\n",
       "      <td>34.720001</td>\n",
       "      <td>35.360001</td>\n",
       "      <td>32.669998</td>\n",
       "      <td>33.700001</td>\n",
       "      <td>33.700001</td>\n",
       "      <td>15403000</td>\n",
       "    </tr>\n",
       "    <tr>\n",
       "      <th>2</th>\n",
       "      <td>2019-06-18</td>\n",
       "      <td>34.500000</td>\n",
       "      <td>37.470001</td>\n",
       "      <td>34.349998</td>\n",
       "      <td>37.360001</td>\n",
       "      <td>37.360001</td>\n",
       "      <td>11022800</td>\n",
       "    </tr>\n",
       "    <tr>\n",
       "      <th>3</th>\n",
       "      <td>2019-06-19</td>\n",
       "      <td>37.599998</td>\n",
       "      <td>37.630001</td>\n",
       "      <td>34.250000</td>\n",
       "      <td>34.900002</td>\n",
       "      <td>34.900002</td>\n",
       "      <td>11163600</td>\n",
       "    </tr>\n",
       "    <tr>\n",
       "      <th>4</th>\n",
       "      <td>2019-06-20</td>\n",
       "      <td>35.110001</td>\n",
       "      <td>35.549999</td>\n",
       "      <td>33.599998</td>\n",
       "      <td>34.230000</td>\n",
       "      <td>34.230000</td>\n",
       "      <td>7901000</td>\n",
       "    </tr>\n",
       "  </tbody>\n",
       "</table>\n",
       "</div>"
      ],
      "text/plain": [
       "         Date       Open       High        Low      Close  Adj Close    Volume\n",
       "0  2019-06-14  36.000000  41.340000  32.740002  34.990002  34.990002  69671400\n",
       "1  2019-06-17  34.720001  35.360001  32.669998  33.700001  33.700001  15403000\n",
       "2  2019-06-18  34.500000  37.470001  34.349998  37.360001  37.360001  11022800\n",
       "3  2019-06-19  37.599998  37.630001  34.250000  34.900002  34.900002  11163600\n",
       "4  2019-06-20  35.110001  35.549999  33.599998  34.230000  34.230000   7901000"
      ]
     },
     "execution_count": 4,
     "metadata": {},
     "output_type": "execute_result"
    }
   ],
   "source": [
    "# Read csv\n",
    "df=pd.read_csv(\"Data/CHWY.csv\")\n",
    "df.head()"
   ]
  },
  {
   "cell_type": "code",
   "execution_count": 5,
   "id": "dd2b47c9",
   "metadata": {},
   "outputs": [
    {
     "data": {
      "text/plain": [
       "Date          object\n",
       "Open         float64\n",
       "High         float64\n",
       "Low          float64\n",
       "Close        float64\n",
       "Adj Close    float64\n",
       "Volume         int64\n",
       "dtype: object"
      ]
     },
     "execution_count": 5,
     "metadata": {},
     "output_type": "execute_result"
    }
   ],
   "source": [
    "# Check datatypes\n",
    "df.dtypes"
   ]
  },
  {
   "cell_type": "code",
   "execution_count": 14,
   "id": "9e28d1d1",
   "metadata": {},
   "outputs": [
    {
     "data": {
      "text/html": [
       "<div>\n",
       "<style scoped>\n",
       "    .dataframe tbody tr th:only-of-type {\n",
       "        vertical-align: middle;\n",
       "    }\n",
       "\n",
       "    .dataframe tbody tr th {\n",
       "        vertical-align: top;\n",
       "    }\n",
       "\n",
       "    .dataframe thead th {\n",
       "        text-align: right;\n",
       "    }\n",
       "</style>\n",
       "<table border=\"1\" class=\"dataframe\">\n",
       "  <thead>\n",
       "    <tr style=\"text-align: right;\">\n",
       "      <th></th>\n",
       "      <th>Date</th>\n",
       "      <th>Open</th>\n",
       "      <th>High</th>\n",
       "      <th>Low</th>\n",
       "      <th>Close</th>\n",
       "      <th>Adj Close</th>\n",
       "      <th>Volume</th>\n",
       "    </tr>\n",
       "  </thead>\n",
       "  <tbody>\n",
       "    <tr>\n",
       "      <th>0</th>\n",
       "      <td>2019-06-14</td>\n",
       "      <td>36.000000</td>\n",
       "      <td>41.340000</td>\n",
       "      <td>32.740002</td>\n",
       "      <td>34.990002</td>\n",
       "      <td>34.990002</td>\n",
       "      <td>69671400</td>\n",
       "    </tr>\n",
       "    <tr>\n",
       "      <th>1</th>\n",
       "      <td>2019-06-17</td>\n",
       "      <td>34.720001</td>\n",
       "      <td>35.360001</td>\n",
       "      <td>32.669998</td>\n",
       "      <td>33.700001</td>\n",
       "      <td>33.700001</td>\n",
       "      <td>15403000</td>\n",
       "    </tr>\n",
       "    <tr>\n",
       "      <th>2</th>\n",
       "      <td>2019-06-18</td>\n",
       "      <td>34.500000</td>\n",
       "      <td>37.470001</td>\n",
       "      <td>34.349998</td>\n",
       "      <td>37.360001</td>\n",
       "      <td>37.360001</td>\n",
       "      <td>11022800</td>\n",
       "    </tr>\n",
       "    <tr>\n",
       "      <th>3</th>\n",
       "      <td>2019-06-19</td>\n",
       "      <td>37.599998</td>\n",
       "      <td>37.630001</td>\n",
       "      <td>34.250000</td>\n",
       "      <td>34.900002</td>\n",
       "      <td>34.900002</td>\n",
       "      <td>11163600</td>\n",
       "    </tr>\n",
       "    <tr>\n",
       "      <th>4</th>\n",
       "      <td>2019-06-20</td>\n",
       "      <td>35.110001</td>\n",
       "      <td>35.549999</td>\n",
       "      <td>33.599998</td>\n",
       "      <td>34.230000</td>\n",
       "      <td>34.230000</td>\n",
       "      <td>7901000</td>\n",
       "    </tr>\n",
       "  </tbody>\n",
       "</table>\n",
       "</div>"
      ],
      "text/plain": [
       "        Date       Open       High        Low      Close  Adj Close    Volume\n",
       "0 2019-06-14  36.000000  41.340000  32.740002  34.990002  34.990002  69671400\n",
       "1 2019-06-17  34.720001  35.360001  32.669998  33.700001  33.700001  15403000\n",
       "2 2019-06-18  34.500000  37.470001  34.349998  37.360001  37.360001  11022800\n",
       "3 2019-06-19  37.599998  37.630001  34.250000  34.900002  34.900002  11163600\n",
       "4 2019-06-20  35.110001  35.549999  33.599998  34.230000  34.230000   7901000"
      ]
     },
     "execution_count": 14,
     "metadata": {},
     "output_type": "execute_result"
    }
   ],
   "source": [
    "# Convert date column from object to datetime format\n",
    "df[\"Date\"] = pd.to_datetime(df['Date'])\n",
    "df.head()"
   ]
  },
  {
   "cell_type": "code",
   "execution_count": 15,
   "id": "2ee089b1",
   "metadata": {},
   "outputs": [
    {
     "data": {
      "text/plain": [
       "Date         datetime64[ns]\n",
       "Open                float64\n",
       "High                float64\n",
       "Low                 float64\n",
       "Close               float64\n",
       "Adj Close           float64\n",
       "Volume                int64\n",
       "dtype: object"
      ]
     },
     "execution_count": 15,
     "metadata": {},
     "output_type": "execute_result"
    }
   ],
   "source": [
    "# Confirm datatypes\n",
    "df.dtypes"
   ]
  },
  {
   "cell_type": "code",
   "execution_count": 16,
   "id": "9cf503c0",
   "metadata": {},
   "outputs": [
    {
     "data": {
      "text/plain": [
       "[<matplotlib.lines.Line2D at 0x7f9e99a9ccd0>]"
      ]
     },
     "execution_count": 16,
     "metadata": {},
     "output_type": "execute_result"
    },
    {
     "data": {
      "image/png": "[encoded data removed]",
      "text/plain": [
       "<Figure size 432x288 with 1 Axes>"
      ]
     },
     "metadata": {
      "needs_background": "light"
     },
     "output_type": "display_data"
    }
   ],
   "source": [
    "# Plot the stock prices against date\n",
    "plt.plot(df.Date, df.Close)"
   ]
  },
  {
   "cell_type": "code",
   "execution_count": 20,
   "id": "345045a3",
   "metadata": {},
   "outputs": [
    {
     "data": {
      "text/plain": [
       "False"
      ]
     },
     "execution_count": 20,
     "metadata": {},
     "output_type": "execute_result"
    }
   ],
   "source": [
    "# Check for null values\n",
    "df.isnull().values.any()"
   ]
  },
  {
   "cell_type": "code",
   "execution_count": 21,
   "id": "2ddca2ce",
   "metadata": {},
   "outputs": [
    {
     "data": {
      "text/html": [
       "<div>\n",
       "<style scoped>\n",
       "    .dataframe tbody tr th:only-of-type {\n",
       "        vertical-align: middle;\n",
       "    }\n",
       "\n",
       "    .dataframe tbody tr th {\n",
       "        vertical-align: top;\n",
       "    }\n",
       "\n",
       "    .dataframe thead th {\n",
       "        text-align: right;\n",
       "    }\n",
       "</style>\n",
       "<table border=\"1\" class=\"dataframe\">\n",
       "  <thead>\n",
       "    <tr style=\"text-align: right;\">\n",
       "      <th></th>\n",
       "      <th>Date</th>\n",
       "      <th>Open</th>\n",
       "      <th>High</th>\n",
       "      <th>Low</th>\n",
       "      <th>Close</th>\n",
       "      <th>Adj Close</th>\n",
       "      <th>Volume</th>\n",
       "    </tr>\n",
       "  </thead>\n",
       "  <tbody>\n",
       "    <tr>\n",
       "      <th>0</th>\n",
       "      <td>2019-06-14</td>\n",
       "      <td>36.000000</td>\n",
       "      <td>41.340000</td>\n",
       "      <td>32.740002</td>\n",
       "      <td>34.990002</td>\n",
       "      <td>34.990002</td>\n",
       "      <td>69671400</td>\n",
       "    </tr>\n",
       "    <tr>\n",
       "      <th>1</th>\n",
       "      <td>2019-06-17</td>\n",
       "      <td>34.720001</td>\n",
       "      <td>35.360001</td>\n",
       "      <td>32.669998</td>\n",
       "      <td>33.700001</td>\n",
       "      <td>33.700001</td>\n",
       "      <td>15403000</td>\n",
       "    </tr>\n",
       "    <tr>\n",
       "      <th>2</th>\n",
       "      <td>2019-06-18</td>\n",
       "      <td>34.500000</td>\n",
       "      <td>37.470001</td>\n",
       "      <td>34.349998</td>\n",
       "      <td>37.360001</td>\n",
       "      <td>37.360001</td>\n",
       "      <td>11022800</td>\n",
       "    </tr>\n",
       "    <tr>\n",
       "      <th>3</th>\n",
       "      <td>2019-06-19</td>\n",
       "      <td>37.599998</td>\n",
       "      <td>37.630001</td>\n",
       "      <td>34.250000</td>\n",
       "      <td>34.900002</td>\n",
       "      <td>34.900002</td>\n",
       "      <td>11163600</td>\n",
       "    </tr>\n",
       "    <tr>\n",
       "      <th>4</th>\n",
       "      <td>2019-06-20</td>\n",
       "      <td>35.110001</td>\n",
       "      <td>35.549999</td>\n",
       "      <td>33.599998</td>\n",
       "      <td>34.230000</td>\n",
       "      <td>34.230000</td>\n",
       "      <td>7901000</td>\n",
       "    </tr>\n",
       "    <tr>\n",
       "      <th>...</th>\n",
       "      <td>...</td>\n",
       "      <td>...</td>\n",
       "      <td>...</td>\n",
       "      <td>...</td>\n",
       "      <td>...</td>\n",
       "      <td>...</td>\n",
       "      <td>...</td>\n",
       "    </tr>\n",
       "    <tr>\n",
       "      <th>834</th>\n",
       "      <td>2022-10-05</td>\n",
       "      <td>32.650002</td>\n",
       "      <td>37.169998</td>\n",
       "      <td>32.564999</td>\n",
       "      <td>36.669998</td>\n",
       "      <td>36.669998</td>\n",
       "      <td>10598900</td>\n",
       "    </tr>\n",
       "    <tr>\n",
       "      <th>835</th>\n",
       "      <td>2022-10-06</td>\n",
       "      <td>36.660000</td>\n",
       "      <td>38.650002</td>\n",
       "      <td>36.360001</td>\n",
       "      <td>37.939999</td>\n",
       "      <td>37.939999</td>\n",
       "      <td>6125100</td>\n",
       "    </tr>\n",
       "    <tr>\n",
       "      <th>836</th>\n",
       "      <td>2022-10-07</td>\n",
       "      <td>37.160000</td>\n",
       "      <td>38.389999</td>\n",
       "      <td>35.680000</td>\n",
       "      <td>36.340000</td>\n",
       "      <td>36.340000</td>\n",
       "      <td>5712700</td>\n",
       "    </tr>\n",
       "    <tr>\n",
       "      <th>837</th>\n",
       "      <td>2022-10-10</td>\n",
       "      <td>36.240002</td>\n",
       "      <td>37.020000</td>\n",
       "      <td>34.799999</td>\n",
       "      <td>35.340000</td>\n",
       "      <td>35.340000</td>\n",
       "      <td>4000800</td>\n",
       "    </tr>\n",
       "    <tr>\n",
       "      <th>838</th>\n",
       "      <td>2022-10-11</td>\n",
       "      <td>35.000000</td>\n",
       "      <td>35.700001</td>\n",
       "      <td>33.330002</td>\n",
       "      <td>34.029999</td>\n",
       "      <td>34.029999</td>\n",
       "      <td>3720900</td>\n",
       "    </tr>\n",
       "  </tbody>\n",
       "</table>\n",
       "<p>839 rows × 7 columns</p>\n",
       "</div>"
      ],
      "text/plain": [
       "          Date       Open       High        Low      Close  Adj Close  \\\n",
       "0   2019-06-14  36.000000  41.340000  32.740002  34.990002  34.990002   \n",
       "1   2019-06-17  34.720001  35.360001  32.669998  33.700001  33.700001   \n",
       "2   2019-06-18  34.500000  37.470001  34.349998  37.360001  37.360001   \n",
       "3   2019-06-19  37.599998  37.630001  34.250000  34.900002  34.900002   \n",
       "4   2019-06-20  35.110001  35.549999  33.599998  34.230000  34.230000   \n",
       "..         ...        ...        ...        ...        ...        ...   \n",
       "834 2022-10-05  32.650002  37.169998  32.564999  36.669998  36.669998   \n",
       "835 2022-10-06  36.660000  38.650002  36.360001  37.939999  37.939999   \n",
       "836 2022-10-07  37.160000  38.389999  35.680000  36.340000  36.340000   \n",
       "837 2022-10-10  36.240002  37.020000  34.799999  35.340000  35.340000   \n",
       "838 2022-10-11  35.000000  35.700001  33.330002  34.029999  34.029999   \n",
       "\n",
       "       Volume  \n",
       "0    69671400  \n",
       "1    15403000  \n",
       "2    11022800  \n",
       "3    11163600  \n",
       "4     7901000  \n",
       "..        ...  \n",
       "834  10598900  \n",
       "835   6125100  \n",
       "836   5712700  \n",
       "837   4000800  \n",
       "838   3720900  \n",
       "\n",
       "[839 rows x 7 columns]"
      ]
     },
     "execution_count": 21,
     "metadata": {},
     "output_type": "execute_result"
    }
   ],
   "source": [
    "# Remove null values\n",
    "df.dropna()\n",
    "df"
   ]
  },
  {
   "cell_type": "code",
   "execution_count": 25,
   "id": "2efd18b1",
   "metadata": {},
   "outputs": [],
   "source": [
    "# Export cleaned data\n",
    "df.to_csv(\"cleaned_data/CHWY_cleaned.csv\")"
   ]
  }
 ],
 "metadata": {
  "kernelspec": {
   "display_name": "mlenv",
   "language": "python",
   "name": "mlenv"
  },
  "language_info": {
   "codemirror_mode": {
    "name": "ipython",
    "version": 3
   },
   "file_extension": ".py",
   "mimetype": "text/x-python",
   "name": "python",
   "nbconvert_exporter": "python",
   "pygments_lexer": "ipython3",
   "version": "3.7.13"
  }
 },
 "nbformat": 4,
 "nbformat_minor": 5
}
