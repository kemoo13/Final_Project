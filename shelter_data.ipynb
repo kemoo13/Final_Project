{
 "cells": [
  {
   "cell_type": "code",
   "execution_count": 1,
   "id": "32699603",
   "metadata": {},
   "outputs": [],
   "source": [
    "## sac adoption data clean\n",
    "import pandas as pd\n",
    "\n",
    "df = pd.read_csv(\"Resources/sac_2019_2021.csv\")\n"
   ]
  },
  {
   "cell_type": "code",
   "execution_count": 2,
   "id": "378b7b58",
   "metadata": {},
   "outputs": [
    {
     "data": {
      "text/plain": [
       "Index(['State', 'Year', 'Intake - Relinquished By Owner Total-Feline',\n",
       "       'Intake - Stray At Large Total-Feline',\n",
       "       'Intake - Transferred In Total-Feline',\n",
       "       'Intake - Owner Intended Euthanasia Total-Feline',\n",
       "       'Intakes - Other Intakes Total-Feline',\n",
       "       'Live Outcome - Adoption Total-Feline',\n",
       "       'Live Outcome - Returned To Owner Total-Feline',\n",
       "       'Live Outcome - Returned To Field Total-Feline',\n",
       "       'Live Outcome - Transferred Out Total-Feline',\n",
       "       'Live outcome - Other Live Outcome Total-Feline',\n",
       "       'Other Outcome - Died In Care Total-Feline',\n",
       "       'Other Outcome - Lost In Care Total-Feline',\n",
       "       'Other Outcome - Owner Intended Euthanasia Total-Feline',\n",
       "       'Other Outcome - Shelter Euthanasia Total-Feline',\n",
       "       'Intake - Relinquished By Owner Total-Canine',\n",
       "       'Intake - Stray At Large Total-Canine',\n",
       "       'Intake - Transferred In Total-Canine',\n",
       "       'Intake - Owner Intended Euthanasia Total-Canine',\n",
       "       'Intakes - Other Intakes Total-Canine',\n",
       "       'Live Outcome - Adoption Total-Canine',\n",
       "       'Live Outcome - Returned To Owner Total-Canine',\n",
       "       'Live Outcome - Returned To Field Total-Canine',\n",
       "       'Live Outcome - Transferred Out Total-Canine',\n",
       "       'Live outcome - Other Live Outcome Total-Canine',\n",
       "       'Other Outcome - Died In Care Total-Canine',\n",
       "       'Other Outcome - Lost In Care Total-Canine',\n",
       "       'Other Outcome - Owner Intended Euthanasia Total-Canine',\n",
       "       'Other Outcome - Shelter Euthanasia Total-Canine'],\n",
       "      dtype='object')"
      ]
     },
     "execution_count": 2,
     "metadata": {},
     "output_type": "execute_result"
    }
   ],
   "source": [
    "df.columns"
   ]
  },
  {
   "cell_type": "code",
   "execution_count": 9,
   "id": "e9854c89",
   "metadata": {},
   "outputs": [
    {
     "data": {
      "text/html": [
       "<div>\n",
       "<style scoped>\n",
       "    .dataframe tbody tr th:only-of-type {\n",
       "        vertical-align: middle;\n",
       "    }\n",
       "\n",
       "    .dataframe tbody tr th {\n",
       "        vertical-align: top;\n",
       "    }\n",
       "\n",
       "    .dataframe thead th {\n",
       "        text-align: right;\n",
       "    }\n",
       "</style>\n",
       "<table border=\"1\" class=\"dataframe\">\n",
       "  <thead>\n",
       "    <tr style=\"text-align: right;\">\n",
       "      <th></th>\n",
       "      <th>Year</th>\n",
       "      <th>Live Outcome - Adoption Total-Feline</th>\n",
       "      <th>Live Outcome - Adoption Total-Canine</th>\n",
       "    </tr>\n",
       "  </thead>\n",
       "  <tbody>\n",
       "    <tr>\n",
       "      <th>0</th>\n",
       "      <td>2019</td>\n",
       "      <td>1,689</td>\n",
       "      <td>0</td>\n",
       "    </tr>\n",
       "    <tr>\n",
       "      <th>1</th>\n",
       "      <td>2020</td>\n",
       "      <td>1,755</td>\n",
       "      <td>0</td>\n",
       "    </tr>\n",
       "    <tr>\n",
       "      <th>2</th>\n",
       "      <td>2021</td>\n",
       "      <td>1,886</td>\n",
       "      <td>0</td>\n",
       "    </tr>\n",
       "    <tr>\n",
       "      <th>3</th>\n",
       "      <td>2019</td>\n",
       "      <td>7,582</td>\n",
       "      <td>9,484</td>\n",
       "    </tr>\n",
       "    <tr>\n",
       "      <th>4</th>\n",
       "      <td>2020</td>\n",
       "      <td>6,816</td>\n",
       "      <td>7,480</td>\n",
       "    </tr>\n",
       "  </tbody>\n",
       "</table>\n",
       "</div>"
      ],
      "text/plain": [
       "   Year Live Outcome - Adoption Total-Feline  \\\n",
       "0  2019                                1,689   \n",
       "1  2020                                1,755   \n",
       "2  2021                                1,886   \n",
       "3  2019                                7,582   \n",
       "4  2020                                6,816   \n",
       "\n",
       "  Live Outcome - Adoption Total-Canine  \n",
       "0                                    0  \n",
       "1                                    0  \n",
       "2                                    0  \n",
       "3                                9,484  \n",
       "4                                7,480  "
      ]
     },
     "execution_count": 9,
     "metadata": {},
     "output_type": "execute_result"
    }
   ],
   "source": [
    "adoptions_df= df[['Year','Live Outcome - Adoption Total-Feline','Live Outcome - Adoption Total-Canine']]\n",
    "adoptions_df.head()"
   ]
  },
  {
   "cell_type": "code",
   "execution_count": 10,
   "id": "f854273f",
   "metadata": {},
   "outputs": [
    {
     "name": "stdout",
     "output_type": "stream",
     "text": [
      "<class 'pandas.core.frame.DataFrame'>\n",
      "RangeIndex: 159 entries, 0 to 158\n",
      "Data columns (total 3 columns):\n",
      " #   Column                                Non-Null Count  Dtype \n",
      "---  ------                                --------------  ----- \n",
      " 0   Year                                  159 non-null    int64 \n",
      " 1   Live Outcome - Adoption Total-Feline  159 non-null    object\n",
      " 2   Live Outcome - Adoption Total-Canine  159 non-null    object\n",
      "dtypes: int64(1), object(2)\n",
      "memory usage: 3.9+ KB\n"
     ]
    }
   ],
   "source": [
    "adoptions_df.info()"
   ]
  },
  {
   "cell_type": "code",
   "execution_count": 11,
   "id": "be17c68a",
   "metadata": {},
   "outputs": [],
   "source": [
    "adoptions_df = adoptions_df.replace(',', '', regex=True).astype(int)"
   ]
  },
  {
   "cell_type": "code",
   "execution_count": 12,
   "id": "8a186cfa",
   "metadata": {},
   "outputs": [],
   "source": [
    "df2 = adoptions_df.groupby('Year').sum()"
   ]
  },
  {
   "cell_type": "code",
   "execution_count": 13,
   "id": "1b037bc1",
   "metadata": {},
   "outputs": [
    {
     "data": {
      "text/html": [
       "<div>\n",
       "<style scoped>\n",
       "    .dataframe tbody tr th:only-of-type {\n",
       "        vertical-align: middle;\n",
       "    }\n",
       "\n",
       "    .dataframe tbody tr th {\n",
       "        vertical-align: top;\n",
       "    }\n",
       "\n",
       "    .dataframe thead th {\n",
       "        text-align: right;\n",
       "    }\n",
       "</style>\n",
       "<table border=\"1\" class=\"dataframe\">\n",
       "  <thead>\n",
       "    <tr style=\"text-align: right;\">\n",
       "      <th></th>\n",
       "      <th>Live Outcome - Adoption Total-Feline</th>\n",
       "      <th>Live Outcome - Adoption Total-Canine</th>\n",
       "    </tr>\n",
       "    <tr>\n",
       "      <th>Year</th>\n",
       "      <th></th>\n",
       "      <th></th>\n",
       "    </tr>\n",
       "  </thead>\n",
       "  <tbody>\n",
       "    <tr>\n",
       "      <th>2019</th>\n",
       "      <td>732046</td>\n",
       "      <td>649549</td>\n",
       "    </tr>\n",
       "    <tr>\n",
       "      <th>2020</th>\n",
       "      <td>651066</td>\n",
       "      <td>509080</td>\n",
       "    </tr>\n",
       "    <tr>\n",
       "      <th>2021</th>\n",
       "      <td>684144</td>\n",
       "      <td>511446</td>\n",
       "    </tr>\n",
       "  </tbody>\n",
       "</table>\n",
       "</div>"
      ],
      "text/plain": [
       "      Live Outcome - Adoption Total-Feline  \\\n",
       "Year                                         \n",
       "2019                                732046   \n",
       "2020                                651066   \n",
       "2021                                684144   \n",
       "\n",
       "      Live Outcome - Adoption Total-Canine  \n",
       "Year                                        \n",
       "2019                                649549  \n",
       "2020                                509080  \n",
       "2021                                511446  "
      ]
     },
     "execution_count": 13,
     "metadata": {},
     "output_type": "execute_result"
    }
   ],
   "source": [
    "df2"
   ]
  },
  {
   "cell_type": "code",
   "execution_count": 14,
   "id": "03e721aa",
   "metadata": {},
   "outputs": [
    {
     "data": {
      "text/html": [
       "<div>\n",
       "<style scoped>\n",
       "    .dataframe tbody tr th:only-of-type {\n",
       "        vertical-align: middle;\n",
       "    }\n",
       "\n",
       "    .dataframe tbody tr th {\n",
       "        vertical-align: top;\n",
       "    }\n",
       "\n",
       "    .dataframe thead th {\n",
       "        text-align: right;\n",
       "    }\n",
       "</style>\n",
       "<table border=\"1\" class=\"dataframe\">\n",
       "  <thead>\n",
       "    <tr style=\"text-align: right;\">\n",
       "      <th></th>\n",
       "      <th>Live Outcome - Adoption Total-Feline</th>\n",
       "      <th>Live Outcome - Adoption Total-Canine</th>\n",
       "      <th>Total Adoptions</th>\n",
       "    </tr>\n",
       "    <tr>\n",
       "      <th>Year</th>\n",
       "      <th></th>\n",
       "      <th></th>\n",
       "      <th></th>\n",
       "    </tr>\n",
       "  </thead>\n",
       "  <tbody>\n",
       "    <tr>\n",
       "      <th>2019</th>\n",
       "      <td>732046</td>\n",
       "      <td>649549</td>\n",
       "      <td>1381595</td>\n",
       "    </tr>\n",
       "    <tr>\n",
       "      <th>2020</th>\n",
       "      <td>651066</td>\n",
       "      <td>509080</td>\n",
       "      <td>1160146</td>\n",
       "    </tr>\n",
       "    <tr>\n",
       "      <th>2021</th>\n",
       "      <td>684144</td>\n",
       "      <td>511446</td>\n",
       "      <td>1195590</td>\n",
       "    </tr>\n",
       "  </tbody>\n",
       "</table>\n",
       "</div>"
      ],
      "text/plain": [
       "      Live Outcome - Adoption Total-Feline  \\\n",
       "Year                                         \n",
       "2019                                732046   \n",
       "2020                                651066   \n",
       "2021                                684144   \n",
       "\n",
       "      Live Outcome - Adoption Total-Canine  Total Adoptions  \n",
       "Year                                                         \n",
       "2019                                649549          1381595  \n",
       "2020                                509080          1160146  \n",
       "2021                                511446          1195590  "
      ]
     },
     "execution_count": 14,
     "metadata": {},
     "output_type": "execute_result"
    }
   ],
   "source": [
    "df2['Total Adoptions'] = df2['Live Outcome - Adoption Total-Feline'] + df2['Live Outcome - Adoption Total-Canine']\n",
    "df2"
   ]
  },
  {
   "cell_type": "code",
   "execution_count": 16,
   "id": "8f5a56ad",
   "metadata": {},
   "outputs": [],
   "source": [
    "df2.to_csv(\"Resources/adoptions.csv\")"
   ]
  },
  {
   "cell_type": "code",
   "execution_count": null,
   "id": "bb59ed51",
   "metadata": {},
   "outputs": [],
   "source": []
  }
 ],
 "metadata": {
  "kernelspec": {
   "display_name": "mlenv",
   "language": "python",
   "name": "mlenv"
  },
  "language_info": {
   "codemirror_mode": {
    "name": "ipython",
    "version": 3
   },
   "file_extension": ".py",
   "mimetype": "text/x-python",
   "name": "python",
   "nbconvert_exporter": "python",
   "pygments_lexer": "ipython3",
   "version": "3.7.13"
  }
 },
 "nbformat": 4,
 "nbformat_minor": 5
}
