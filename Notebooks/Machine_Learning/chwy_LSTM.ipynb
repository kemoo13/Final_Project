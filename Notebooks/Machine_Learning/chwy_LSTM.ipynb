{
 "cells": [
  {
   "cell_type": "code",
   "execution_count": 1,
   "id": "f14f29d3",
   "metadata": {},
   "outputs": [
    {
     "data": {
      "text/html": [
       "<div>\n",
       "<style scoped>\n",
       "    .dataframe tbody tr th:only-of-type {\n",
       "        vertical-align: middle;\n",
       "    }\n",
       "\n",
       "    .dataframe tbody tr th {\n",
       "        vertical-align: top;\n",
       "    }\n",
       "\n",
       "    .dataframe thead th {\n",
       "        text-align: right;\n",
       "    }\n",
       "</style>\n",
       "<table border=\"1\" class=\"dataframe\">\n",
       "  <thead>\n",
       "    <tr style=\"text-align: right;\">\n",
       "      <th></th>\n",
       "      <th>Date</th>\n",
       "      <th>Open</th>\n",
       "      <th>High</th>\n",
       "      <th>Low</th>\n",
       "      <th>Close</th>\n",
       "      <th>Adj Close</th>\n",
       "      <th>Volume</th>\n",
       "    </tr>\n",
       "  </thead>\n",
       "  <tbody>\n",
       "    <tr>\n",
       "      <th>0</th>\n",
       "      <td>2019-06-14</td>\n",
       "      <td>36.000000</td>\n",
       "      <td>41.340000</td>\n",
       "      <td>32.740002</td>\n",
       "      <td>34.990002</td>\n",
       "      <td>34.990002</td>\n",
       "      <td>69671400</td>\n",
       "    </tr>\n",
       "    <tr>\n",
       "      <th>1</th>\n",
       "      <td>2019-06-17</td>\n",
       "      <td>34.720001</td>\n",
       "      <td>35.360001</td>\n",
       "      <td>32.669998</td>\n",
       "      <td>33.700001</td>\n",
       "      <td>33.700001</td>\n",
       "      <td>15403000</td>\n",
       "    </tr>\n",
       "    <tr>\n",
       "      <th>2</th>\n",
       "      <td>2019-06-18</td>\n",
       "      <td>34.500000</td>\n",
       "      <td>37.470001</td>\n",
       "      <td>34.349998</td>\n",
       "      <td>37.360001</td>\n",
       "      <td>37.360001</td>\n",
       "      <td>11022800</td>\n",
       "    </tr>\n",
       "    <tr>\n",
       "      <th>3</th>\n",
       "      <td>2019-06-19</td>\n",
       "      <td>37.599998</td>\n",
       "      <td>37.630001</td>\n",
       "      <td>34.250000</td>\n",
       "      <td>34.900002</td>\n",
       "      <td>34.900002</td>\n",
       "      <td>11163600</td>\n",
       "    </tr>\n",
       "    <tr>\n",
       "      <th>4</th>\n",
       "      <td>2019-06-20</td>\n",
       "      <td>35.110001</td>\n",
       "      <td>35.549999</td>\n",
       "      <td>33.599998</td>\n",
       "      <td>34.230000</td>\n",
       "      <td>34.230000</td>\n",
       "      <td>7901000</td>\n",
       "    </tr>\n",
       "  </tbody>\n",
       "</table>\n",
       "</div>"
      ],
      "text/plain": [
       "         Date       Open       High        Low      Close  Adj Close    Volume\n",
       "0  2019-06-14  36.000000  41.340000  32.740002  34.990002  34.990002  69671400\n",
       "1  2019-06-17  34.720001  35.360001  32.669998  33.700001  33.700001  15403000\n",
       "2  2019-06-18  34.500000  37.470001  34.349998  37.360001  37.360001  11022800\n",
       "3  2019-06-19  37.599998  37.630001  34.250000  34.900002  34.900002  11163600\n",
       "4  2019-06-20  35.110001  35.549999  33.599998  34.230000  34.230000   7901000"
      ]
     },
     "execution_count": 1,
     "metadata": {},
     "output_type": "execute_result"
    }
   ],
   "source": [
    "# Import our dependencies\n",
    "\n",
    "import os\n",
    "import pandas as pd\n",
    "import matplotlib.pyplot as plt\n",
    "from sklearn.datasets import make_blobs\n",
    "import sklearn as skl\n",
    "import tensorflow as tf\n",
    "from sklearn.preprocessing import MinMaxScaler \n",
    "from tensorflow import keras\n",
    "from tensorflow.keras import layers\n",
    "import math\n",
    "import numpy as np\n",
    "\n",
    "df = pd.read_csv(\"CHWY_cleaned.csv\")\n",
    "df.head()"
   ]
  },
  {
   "cell_type": "code",
   "execution_count": 2,
   "id": "709ccfc3",
   "metadata": {},
   "outputs": [
    {
     "data": {
      "text/plain": [
       "Date          object\n",
       "Open         float64\n",
       "High         float64\n",
       "Low          float64\n",
       "Close        float64\n",
       "Adj Close    float64\n",
       "Volume         int64\n",
       "dtype: object"
      ]
     },
     "execution_count": 2,
     "metadata": {},
     "output_type": "execute_result"
    }
   ],
   "source": [
    "df.dtypes"
   ]
  },
  {
   "cell_type": "code",
   "execution_count": 3,
   "id": "0368d893",
   "metadata": {},
   "outputs": [
    {
     "name": "stdout",
     "output_type": "stream",
     "text": [
      "<class 'pandas.core.frame.DataFrame'>\n",
      "DatetimeIndex: 839 entries, 2019-06-14 to 2022-10-11\n",
      "Data columns (total 6 columns):\n",
      " #   Column     Non-Null Count  Dtype  \n",
      "---  ------     --------------  -----  \n",
      " 0   Open       839 non-null    float64\n",
      " 1   High       839 non-null    float64\n",
      " 2   Low        839 non-null    float64\n",
      " 3   Close      839 non-null    float64\n",
      " 4   Adj_Close  839 non-null    float64\n",
      " 5   Volume     839 non-null    int64  \n",
      "dtypes: float64(5), int64(1)\n",
      "memory usage: 45.9 KB\n"
     ]
    }
   ],
   "source": [
    "df['Date']=pd.to_datetime(df['Date'])\n",
    "df.set_index('Date', inplace=True)\n",
    "df.rename(columns = {'Adj Close':'Adj_Close'}, inplace=True)\n",
    "df.dropna()\n",
    "df.info()"
   ]
  },
  {
   "cell_type": "code",
   "execution_count": 4,
   "id": "2a087c66",
   "metadata": {},
   "outputs": [
    {
     "data": {
      "text/plain": [
       "[<matplotlib.lines.Line2D at 0x22fe92cd508>]"
      ]
     },
     "execution_count": 4,
     "metadata": {},
     "output_type": "execute_result"
    },
    {
     "data": {
      "image/png": "[encoded data removed]",
      "text/plain": [
       "<Figure size 432x288 with 1 Axes>"
      ]
     },
     "metadata": {
      "needs_background": "light"
     },
     "output_type": "display_data"
    }
   ],
   "source": [
    "plt.plot(df.Adj_Close)"
   ]
  },
  {
   "cell_type": "code",
   "execution_count": 6,
   "id": "a0156d26",
   "metadata": {},
   "outputs": [],
   "source": [
    "# separate target and features\n",
    "\n",
    "y = df['Adj_Close']\n",
    "X = df.drop(columns=['Adj_Close'])"
   ]
  },
  {
   "cell_type": "code",
   "execution_count": 7,
   "id": "d37f4c4c",
   "metadata": {},
   "outputs": [],
   "source": [
    "close_prices = df['Adj_Close']\n",
    "values = close_prices.values\n",
    "training_data_len = math.ceil(len(values)* 0.8)\n",
    "\n",
    "scaler = MinMaxScaler(feature_range=(0,1))\n",
    "scaled_data = scaler.fit_transform(values.reshape(-1,1))\n",
    "train_data = scaled_data[0: training_data_len, :]\n",
    "\n",
    "x_train = []\n",
    "y_train = []\n",
    "\n",
    "for i in range(60, len(train_data)):\n",
    "    x_train.append(train_data[i-60:i, 0])\n",
    "    y_train.append(train_data[i, 0])\n",
    "    \n",
    "x_train, y_train = np.array(x_train), np.array(y_train)\n",
    "x_train = np.reshape(x_train, (x_train.shape[0], x_train.shape[1], 1))"
   ]
  },
  {
   "cell_type": "code",
   "execution_count": 8,
   "id": "3c9a6dff",
   "metadata": {},
   "outputs": [
    {
     "data": {
      "text/plain": [
       "array([[[0.13318147],\n",
       "        [0.11982189],\n",
       "        [0.15772578],\n",
       "        ...,\n",
       "        [0.12292876],\n",
       "        [0.1103977 ],\n",
       "        [0.11712924]],\n",
       "\n",
       "       [[0.11982189],\n",
       "        [0.15772578],\n",
       "        [0.13224941],\n",
       "        ...,\n",
       "        [0.1103977 ],\n",
       "        [0.11712924],\n",
       "        [0.0860605 ]],\n",
       "\n",
       "       [[0.15772578],\n",
       "        [0.13224941],\n",
       "        [0.12531069],\n",
       "        ...,\n",
       "        [0.11712924],\n",
       "        [0.0860605 ],\n",
       "        [0.0844035 ]],\n",
       "\n",
       "       ...,\n",
       "\n",
       "       [[0.50921709],\n",
       "        [0.56731569],\n",
       "        [0.54504972],\n",
       "        ...,\n",
       "        [0.22328085],\n",
       "        [0.2812759 ],\n",
       "        [0.24533969]],\n",
       "\n",
       "       [[0.56731569],\n",
       "        [0.54504972],\n",
       "        [0.55768437],\n",
       "        ...,\n",
       "        [0.2812759 ],\n",
       "        [0.24533969],\n",
       "        [0.25735294]],\n",
       "\n",
       "       [[0.54504972],\n",
       "        [0.55768437],\n",
       "        [0.53044736],\n",
       "        ...,\n",
       "        [0.24533969],\n",
       "        [0.25735294],\n",
       "        [0.31193041]]])"
      ]
     },
     "execution_count": 8,
     "metadata": {},
     "output_type": "execute_result"
    }
   ],
   "source": [
    "x_train"
   ]
  },
  {
   "cell_type": "code",
   "execution_count": 9,
   "id": "a855dc9b",
   "metadata": {},
   "outputs": [],
   "source": [
    "test_data = scaled_data[training_data_len-60: , : ]\n",
    "x_test = []\n",
    "y_test = values[training_data_len:]\n",
    "\n",
    "for i in range(60, len(test_data)):\n",
    "    x_test.append(test_data[i-60:i, 0])\n",
    "\n",
    "x_test = np.array(x_test)\n",
    "x_test = np.reshape(x_test, (x_test.shape[0], x_test.shape[1], 1))"
   ]
  },
  {
   "cell_type": "code",
   "execution_count": 10,
   "id": "abf7dc5d",
   "metadata": {},
   "outputs": [
    {
     "name": "stdout",
     "output_type": "stream",
     "text": [
      "Model: \"sequential\"\n",
      "_________________________________________________________________\n",
      " Layer (type)                Output Shape              Param #   \n",
      "=================================================================\n",
      " lstm (LSTM)                 (None, 60, 100)           40800     \n",
      "                                                                 \n",
      " lstm_1 (LSTM)               (None, 100)               80400     \n",
      "                                                                 \n",
      " dense (Dense)               (None, 25)                2525      \n",
      "                                                                 \n",
      " dense_1 (Dense)             (None, 1)                 26        \n",
      "                                                                 \n",
      "=================================================================\n",
      "Total params: 123,751\n",
      "Trainable params: 123,751\n",
      "Non-trainable params: 0\n",
      "_________________________________________________________________\n"
     ]
    }
   ],
   "source": [
    "model = keras.Sequential()\n",
    "model.add(layers.LSTM(100, return_sequences=True, input_shape=(x_train.shape[1], 1)))\n",
    "model.add(layers.LSTM(100, return_sequences=False))\n",
    "model.add(layers.Dense(25))\n",
    "model.add(layers.Dense(1))\n",
    "model.summary()"
   ]
  },
  {
   "cell_type": "code",
   "execution_count": 11,
   "id": "1421af4f",
   "metadata": {},
   "outputs": [
    {
     "name": "stdout",
     "output_type": "stream",
     "text": [
      "Epoch 1/3\n",
      "612/612 [==============================] - 10s 12ms/step - loss: 0.0062\n",
      "Epoch 2/3\n",
      "612/612 [==============================] - 8s 12ms/step - loss: 0.0025\n",
      "Epoch 3/3\n",
      "612/612 [==============================] - 7s 12ms/step - loss: 0.0020\n"
     ]
    },
    {
     "data": {
      "text/plain": [
       "<keras.callbacks.History at 0x22fe99b4a48>"
      ]
     },
     "execution_count": 11,
     "metadata": {},
     "output_type": "execute_result"
    }
   ],
   "source": [
    "model.compile(optimizer='adam', loss='mean_squared_error')\n",
    "model.fit(x_train, y_train, batch_size= 1, epochs=3)"
   ]
  },
  {
   "cell_type": "code",
   "execution_count": 12,
   "id": "db1aec2a",
   "metadata": {},
   "outputs": [
    {
     "name": "stdout",
     "output_type": "stream",
     "text": [
      "6/6 [==============================] - 1s 14ms/step\n"
     ]
    },
    {
     "data": {
      "text/plain": [
       "3.55080229104194"
      ]
     },
     "execution_count": 12,
     "metadata": {},
     "output_type": "execute_result"
    }
   ],
   "source": [
    "predictions = model.predict(x_test)\n",
    "predictions = scaler.inverse_transform(predictions)\n",
    "rmse = np.sqrt(np.mean(predictions - y_test)**2)\n",
    "rmse"
   ]
  },
  {
   "cell_type": "code",
   "execution_count": 13,
   "id": "8911aead",
   "metadata": {},
   "outputs": [
    {
     "name": "stderr",
     "output_type": "stream",
     "text": [
      "C:\\Users\\laura\\anaconda3\\envs\\mlenv\\lib\\site-packages\\ipykernel_launcher.py:4: SettingWithCopyWarning: \n",
      "A value is trying to be set on a copy of a slice from a DataFrame.\n",
      "Try using .loc[row_indexer,col_indexer] = value instead\n",
      "\n",
      "See the caveats in the documentation: https://pandas.pydata.org/pandas-docs/stable/user_guide/indexing.html#returning-a-view-versus-a-copy\n",
      "  after removing the cwd from sys.path.\n"
     ]
    },
    {
     "data": {
      "image/png": "[encoded data removed]",
      "text/plain": [
       "<Figure size 1152x576 with 1 Axes>"
      ]
     },
     "metadata": {
      "needs_background": "light"
     },
     "output_type": "display_data"
    }
   ],
   "source": [
    "data = df.filter(['Adj_Close'])\n",
    "train = data[:training_data_len]\n",
    "validation = data[training_data_len:]\n",
    "validation['Predictions'] = predictions\n",
    "plt.figure(figsize=(16,8))\n",
    "plt.title('Model')\n",
    "plt.xlabel('Date')\n",
    "plt.ylabel('Adj_Close Price USD ($)')\n",
    "plt.plot(train)\n",
    "plt.plot(validation[['Adj_Close', 'Predictions']])\n",
    "plt.legend(['Train', 'Actual', 'Predictions'], loc='lower right')\n",
    "plt.show()"
   ]
  },
  {
   "cell_type": "markdown",
   "id": "97482f68",
   "metadata": {},
   "source": [
    "source: https://medium.com/the-handbook-of-coding-in-finance/stock-prices-prediction-using-long-short-term-memory-lstm-model-in-python-734dd1ed6827"
   ]
  },
  {
   "cell_type": "code",
   "execution_count": 14,
   "id": "5a2fccb7",
   "metadata": {},
   "outputs": [
    {
     "data": {
      "text/html": [
       "<div>\n",
       "<style scoped>\n",
       "    .dataframe tbody tr th:only-of-type {\n",
       "        vertical-align: middle;\n",
       "    }\n",
       "\n",
       "    .dataframe tbody tr th {\n",
       "        vertical-align: top;\n",
       "    }\n",
       "\n",
       "    .dataframe thead th {\n",
       "        text-align: right;\n",
       "    }\n",
       "</style>\n",
       "<table border=\"1\" class=\"dataframe\">\n",
       "  <thead>\n",
       "    <tr style=\"text-align: right;\">\n",
       "      <th></th>\n",
       "      <th>Adj_Close</th>\n",
       "      <th>Predictions</th>\n",
       "    </tr>\n",
       "    <tr>\n",
       "      <th>Date</th>\n",
       "      <th></th>\n",
       "      <th></th>\n",
       "    </tr>\n",
       "  </thead>\n",
       "  <tbody>\n",
       "    <tr>\n",
       "      <th>2022-02-11</th>\n",
       "      <td>52.099998</td>\n",
       "      <td>54.111618</td>\n",
       "    </tr>\n",
       "    <tr>\n",
       "      <th>2022-02-14</th>\n",
       "      <td>52.630001</td>\n",
       "      <td>55.300968</td>\n",
       "    </tr>\n",
       "    <tr>\n",
       "      <th>2022-02-15</th>\n",
       "      <td>54.000000</td>\n",
       "      <td>56.003746</td>\n",
       "    </tr>\n",
       "    <tr>\n",
       "      <th>2022-02-16</th>\n",
       "      <td>49.560001</td>\n",
       "      <td>56.763084</td>\n",
       "    </tr>\n",
       "    <tr>\n",
       "      <th>2022-02-17</th>\n",
       "      <td>45.660000</td>\n",
       "      <td>55.660458</td>\n",
       "    </tr>\n",
       "    <tr>\n",
       "      <th>...</th>\n",
       "      <td>...</td>\n",
       "      <td>...</td>\n",
       "    </tr>\n",
       "    <tr>\n",
       "      <th>2022-10-05</th>\n",
       "      <td>36.669998</td>\n",
       "      <td>35.104378</td>\n",
       "    </tr>\n",
       "    <tr>\n",
       "      <th>2022-10-06</th>\n",
       "      <td>37.939999</td>\n",
       "      <td>36.870007</td>\n",
       "    </tr>\n",
       "    <tr>\n",
       "      <th>2022-10-07</th>\n",
       "      <td>36.340000</td>\n",
       "      <td>38.950783</td>\n",
       "    </tr>\n",
       "    <tr>\n",
       "      <th>2022-10-10</th>\n",
       "      <td>35.340000</td>\n",
       "      <td>39.943851</td>\n",
       "    </tr>\n",
       "    <tr>\n",
       "      <th>2022-10-11</th>\n",
       "      <td>34.029999</td>\n",
       "      <td>39.893650</td>\n",
       "    </tr>\n",
       "  </tbody>\n",
       "</table>\n",
       "<p>167 rows × 2 columns</p>\n",
       "</div>"
      ],
      "text/plain": [
       "            Adj_Close  Predictions\n",
       "Date                              \n",
       "2022-02-11  52.099998    54.111618\n",
       "2022-02-14  52.630001    55.300968\n",
       "2022-02-15  54.000000    56.003746\n",
       "2022-02-16  49.560001    56.763084\n",
       "2022-02-17  45.660000    55.660458\n",
       "...               ...          ...\n",
       "2022-10-05  36.669998    35.104378\n",
       "2022-10-06  37.939999    36.870007\n",
       "2022-10-07  36.340000    38.950783\n",
       "2022-10-10  35.340000    39.943851\n",
       "2022-10-11  34.029999    39.893650\n",
       "\n",
       "[167 rows x 2 columns]"
      ]
     },
     "execution_count": 14,
     "metadata": {},
     "output_type": "execute_result"
    }
   ],
   "source": [
    "validation"
   ]
  },
  {
   "cell_type": "code",
   "execution_count": 15,
   "id": "8a868181",
   "metadata": {},
   "outputs": [],
   "source": [
    "validation.to_csv(\"CHWY_LSTM_model_validation_for_Tableau.csv\")"
   ]
  },
  {
   "cell_type": "code",
   "execution_count": null,
   "id": "555d9af0",
   "metadata": {},
   "outputs": [],
   "source": []
  }
 ],
 "metadata": {
  "kernelspec": {
   "display_name": "mlenv",
   "language": "python",
   "name": "mlenv"
  },
  "language_info": {
   "codemirror_mode": {
    "name": "ipython",
    "version": 3
   },
   "file_extension": ".py",
   "mimetype": "text/x-python",
   "name": "python",
   "nbconvert_exporter": "python",
   "pygments_lexer": "ipython3",
   "version": "3.7.13"
  }
 },
 "nbformat": 4,
 "nbformat_minor": 5
}
