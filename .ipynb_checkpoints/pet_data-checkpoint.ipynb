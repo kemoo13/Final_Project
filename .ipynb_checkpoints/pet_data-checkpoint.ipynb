{
 "cells": [
  {
   "cell_type": "markdown",
   "id": "523b4e53",
   "metadata": {},
   "source": [
    "### pet data for final project"
   ]
  },
  {
   "cell_type": "code",
   "execution_count": 1,
   "id": "a1ad9053",
   "metadata": {},
   "outputs": [],
   "source": [
    "# source: https://naphia.org/industry-data/section-2-total-pets-insured/\n",
    "import pandas as pd"
   ]
  },
  {
   "cell_type": "code",
   "execution_count": 2,
   "id": "1cb67cb4",
   "metadata": {},
   "outputs": [],
   "source": [
    "year = [2018,2019,2020,2021]\n",
    "total_insured_pets = [2156448, 2517122, 3101956, 3979282]"
   ]
  },
  {
   "cell_type": "code",
   "execution_count": 3,
   "id": "6c9cef2f",
   "metadata": {},
   "outputs": [],
   "source": [
    "pet_insurance_counts = pd.DataFrame(list(zip(year, total_insured_pets)),\n",
    "               columns =['year', 'total number of insured pets (USA)'])                                    "
   ]
  },
  {
   "cell_type": "code",
   "execution_count": 4,
   "id": "b98dbac3",
   "metadata": {},
   "outputs": [
    {
     "data": {
      "text/html": [
       "<div>\n",
       "<style scoped>\n",
       "    .dataframe tbody tr th:only-of-type {\n",
       "        vertical-align: middle;\n",
       "    }\n",
       "\n",
       "    .dataframe tbody tr th {\n",
       "        vertical-align: top;\n",
       "    }\n",
       "\n",
       "    .dataframe thead th {\n",
       "        text-align: right;\n",
       "    }\n",
       "</style>\n",
       "<table border=\"1\" class=\"dataframe\">\n",
       "  <thead>\n",
       "    <tr style=\"text-align: right;\">\n",
       "      <th></th>\n",
       "      <th>year</th>\n",
       "      <th>total number of insured pets (USA)</th>\n",
       "    </tr>\n",
       "  </thead>\n",
       "  <tbody>\n",
       "    <tr>\n",
       "      <th>0</th>\n",
       "      <td>2018</td>\n",
       "      <td>2156448</td>\n",
       "    </tr>\n",
       "    <tr>\n",
       "      <th>1</th>\n",
       "      <td>2019</td>\n",
       "      <td>2517122</td>\n",
       "    </tr>\n",
       "    <tr>\n",
       "      <th>2</th>\n",
       "      <td>2020</td>\n",
       "      <td>3101956</td>\n",
       "    </tr>\n",
       "    <tr>\n",
       "      <th>3</th>\n",
       "      <td>2021</td>\n",
       "      <td>3979282</td>\n",
       "    </tr>\n",
       "  </tbody>\n",
       "</table>\n",
       "</div>"
      ],
      "text/plain": [
       "   year  total number of insured pets (USA)\n",
       "0  2018                             2156448\n",
       "1  2019                             2517122\n",
       "2  2020                             3101956\n",
       "3  2021                             3979282"
      ]
     },
     "execution_count": 4,
     "metadata": {},
     "output_type": "execute_result"
    }
   ],
   "source": [
    "pet_insurance_counts"
   ]
  },
  {
   "cell_type": "code",
   "execution_count": 6,
   "id": "79d493d4",
   "metadata": {},
   "outputs": [
    {
     "data": {
      "text/plain": [
       "1822834"
      ]
     },
     "execution_count": 6,
     "metadata": {},
     "output_type": "execute_result"
    }
   ],
   "source": [
    "increase = pet_insurance_counts['total number of insured pets (USA)'].loc[3] - pet_insurance_counts['total number of insured pets (USA)'].loc[0]\n",
    "increase"
   ]
  },
  {
   "cell_type": "code",
   "execution_count": 8,
   "id": "719acfa2",
   "metadata": {},
   "outputs": [
    {
     "data": {
      "text/plain": [
       "84.52946697532239"
      ]
     },
     "execution_count": 8,
     "metadata": {},
     "output_type": "execute_result"
    }
   ],
   "source": [
    "percent_increase = increase / pet_insurance_counts['total number of insured pets (USA)'].loc[0] * 100\n",
    "percent_increase"
   ]
  },
  {
   "cell_type": "code",
   "execution_count": 9,
   "id": "38f3c5de",
   "metadata": {},
   "outputs": [
    {
     "name": "stdout",
     "output_type": "stream",
     "text": [
      "Percent Increase in US Insured Pets from 2018 to 2021: 84.53%\n"
     ]
    }
   ],
   "source": [
    "print(f\"Percent Increase in US Insured Pets from 2018 to 2021: {percent_increase:.2f}%\")"
   ]
  },
  {
   "cell_type": "code",
   "execution_count": 10,
   "id": "5026c8b7",
   "metadata": {},
   "outputs": [],
   "source": [
    "pet_insurance_counts.to_csv(\"Resources/pet_insurance_data.csv\")"
   ]
  },
  {
   "cell_type": "code",
   "execution_count": null,
   "id": "1de6dbe3",
   "metadata": {},
   "outputs": [],
   "source": []
  }
 ],
 "metadata": {
  "kernelspec": {
   "display_name": "mlenv",
   "language": "python",
   "name": "mlenv"
  },
  "language_info": {
   "codemirror_mode": {
    "name": "ipython",
    "version": 3
   },
   "file_extension": ".py",
   "mimetype": "text/x-python",
   "name": "python",
   "nbconvert_exporter": "python",
   "pygments_lexer": "ipython3",
   "version": "3.7.13"
  }
 },
 "nbformat": 4,
 "nbformat_minor": 5
}
